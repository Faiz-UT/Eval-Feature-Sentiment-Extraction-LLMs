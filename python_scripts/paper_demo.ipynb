{
 "nbformat": 4,
 "nbformat_minor": 0,
 "metadata": {
  "colab": {
   "provenance": []
  },
  "kernelspec": {
   "name": "python3",
   "display_name": "Python 3"
  },
  "language_info": {
   "name": "python"
  }
 },
 "cells": [
  {
   "cell_type": "code",
   "execution_count": null,
   "metadata": {
    "id": "NO9AQlONvNWs"
   },
   "outputs": [],
   "source": [
    "!pip install --upgrade openai\n"
   ]
  },
  {
   "cell_type": "code",
   "source": [
    "from openai import OpenAI"
   ],
   "metadata": {
    "id": "rnsFHba_vSnf"
   },
   "execution_count": 3,
   "outputs": []
  },
  {
   "cell_type": "code",
   "source": [
    "OPENAI_API_KEY = '.......'  # Enter OpenAI secret key\n",
    "\n",
    "client = OpenAI(api_key=OPENAI_API_KEY)"
   ],
   "metadata": {
    "id": "zc--KuHRvieu"
   },
   "execution_count": 35,
   "outputs": []
  },
  {
   "cell_type": "code",
   "source": [
    "# Shorter prompt\n",
    "# The shorter-prompt provides clear instructions for the task."
   ],
   "metadata": {
    "id": "sj9a_etJ7rN3"
   },
   "execution_count": 36,
   "outputs": []
  },
  {
   "cell_type": "code",
   "source": [
    "# Demo with shorter prompt\n",
    "system_instruction = \"\"\"As an expert information extractor, identify all app features with their corresponding sentiment polarities\n",
    "(i.e., positive, negative or neutral) in the following review text (enclosed in double quotations). Output the results in the format of [('app feature', 'sentiment polarity'), ...].\n",
    "If no app feature is identified, return an empty Python list. Don't output any other information: \"\"\"\n",
    "\n",
    "# review\n",
    "review = \"Review: \\\"\" + \"So many bugs.force crashes  and messages cannot be sent.\" + \"\\\"\"\n",
    "\n",
    "messages = [\n",
    "    {\"role\": \"system\", \"content\": system_instruction},\n",
    "    {\"role\": \"user\", \"content\": review }\n",
    "]\n",
    "\n",
    "# Send the messages to the model\n",
    "completion = client.chat.completions.create(\n",
    "    model=\"gpt-3.5-turbo\",  # ChatGPT\n",
    "    messages=messages\n",
    ")\n",
    "\n",
    "# model's reply\n",
    "assistant_reply = completion.choices[0].message.content\n",
    "\n",
    "print(f\"Task: {review}\\nResponse: {assistant_reply}\")\n"
   ],
   "metadata": {
    "colab": {
     "base_uri": "https://localhost:8080/"
    },
    "id": "OWmkPFycvyxz",
    "outputId": "bcb9d35b-f2ff-49f9-d2eb-32b72bb828bc"
   },
   "execution_count": 37,
   "outputs": [
    {
     "output_type": "stream",
     "name": "stdout",
     "text": [
      "Task: Review: \"So many bugs.force crashes  and messages cannot be sent.\"\n",
      "Response: [('bugs', 'negative'), ('force crashes', 'negative'), ('messages sending', 'negative')]\n"
     ]
    }
   ]
  },
  {
   "cell_type": "code",
   "source": [
    "# Longer prompt\n",
    "# The longer-prompt provides more detailed instructions to the model and therefore, the model output is more precise."
   ],
   "metadata": {
    "id": "CnL0j-t170AW"
   },
   "execution_count": 30,
   "outputs": []
  },
  {
   "cell_type": "code",
   "source": [
    "#Demo with longer prompt\n",
    "system_instruction = \"\"\"Consider the following definitions of \"feature\", \"feature expression\", and \"sentiment polarity\":\n",
    "The \"feature\" refers to a software application functionality (e.g., \"send message\"), a module (e.g., \"user account\") providing functionalities (e.g., \"delete account\" or \"edit information\") or a design component (e.g., UI) providing functional capabilities (e.g., \"configuration screen\", \"button\").\n",
    "The \"feature expression\" is an actual sequence of words that appears in a review text and explicitly indicate a feature.\n",
    "The \"sentiment polarity\" refers to the degree of positivity, negativity or neutrality expressed towards the feature of a software application, and the available polarities includes: 'positive', 'neutral' or 'negative'.\n",
    "Identify all feature expressions with their corresponding sentiment polarities in the following review text (enclosed in double quotations). Output the results in the format of [('feature expression', 'sentiment polarity'), ...]. If no feature expression is identified, return an empty Python list. Don't output any other information.\"\"\"\n",
    "\n",
    "# review\n",
    "review = \"Review: \\\"\" + \"So many bugs.force crashes  and messages cannot be sent.\" + \"\\\"\"\n",
    "\n",
    "\n",
    "messages = [\n",
    "    {\"role\": \"system\", \"content\": system_instruction},\n",
    "    {\"role\": \"user\", \"content\": review }\n",
    "]\n",
    "\n",
    "# Send the messages to the model\n",
    "completion = client.chat.completions.create(\n",
    "    model=\"gpt-3.5-turbo\",  # ChatGPT\n",
    "    messages=messages\n",
    ")\n",
    "\n",
    "# model's reply\n",
    "assistant_reply = completion.choices[0].message.content\n",
    "\n",
    "print(f\"Task: {review}\\nResponse: {assistant_reply}\")\n"
   ],
   "metadata": {
    "colab": {
     "base_uri": "https://localhost:8080/"
    },
    "id": "J5WQMrK5w06E",
    "outputId": "b777126c-d084-40f7-857f-b4e0240edadb"
   },
   "execution_count": 38,
   "outputs": [
    {
     "output_type": "stream",
     "name": "stdout",
     "text": [
      "Task: Review: \"So many bugs.force crashes  and messages cannot be sent.\"\n",
      "Response: [('bugs', 'negative'), ('force crashes', 'negative'), ('messages cannot be sent', 'negative')]\n"
     ]
    }
   ]
  },
  {
   "cell_type": "code",
   "source": [
    "# One-shot learning: learning from one-example\n",
    "# One-shot learning is a way to familiarize the model with the task and\n",
    "# inspired by the human ability to learn new concepts from a single example."
   ],
   "metadata": {
    "id": "yPFO66pzy-7Q"
   },
   "execution_count": 17,
   "outputs": []
  },
  {
   "cell_type": "code",
   "source": [
    "# Demo with one-shot via example context (one-shot) to help the model understand the task\n",
    "review_1 = \"Review: \\\"\" + \"I have constantly failed to sync my notes, photos, and documents\" + \"\\\"\"\n",
    "review_1_output = \"[\"\n",
    "review_1_output = review_1_output + \"(\\'sync my notes\\',\\'negative\\')\"\n",
    "review_1_output = review_1_output + \",\" +  \"(\\'sync photos\\',\\'negative\\')\"\n",
    "review_1_output = review_1_output + \",\" +  \"(\\'sync documents\\',\\'negative\\')\"\n",
    "review_1_output = review_1_output + \"]\"\n",
    "\n",
    "# short prompt\n",
    "prompt_base = \"\"\"As an expert information extractor, identify all app features with their corresponding sentiment polarities\n",
    "(i.e., positive, negative or neutral) in the following review text (enclosed in double quotations). Output the results in the format of [('app feature', 'sentiment polarity'), ...].\n",
    "If no app feature is identified, return an empty Python list. Don't output any other information: \"\"\"\n",
    "\n",
    "# The actual task i.e., review\n",
    "review = \"So many bugs.force crashes  and messages cannot be sent.\"\n",
    "\n",
    "# messages system for a one-shot interaction\n",
    "messages = [\n",
    "    {\"role\": \"system\", \"content\": prompt_base},\n",
    "    {\"role\": \"user\", \"content\": review_1},\n",
    "    {\"role\": \"assistant\", \"content\": review_1_output},\n",
    "    {\"role\": \"user\", \"content\": review}\n",
    "]\n",
    "\n",
    "# Send the messages to the model\n",
    "completion = client.chat.completions.create(\n",
    "    model=\"gpt-3.5-turbo\",\n",
    "    messages=messages\n",
    ")\n",
    "\n",
    "# model's reply\n",
    "assistant_reply = completion.choices[0].message.content\n",
    "\n",
    "print(f\"Task: {review}\\nResponse: {assistant_reply}\")\n"
   ],
   "metadata": {
    "colab": {
     "base_uri": "https://localhost:8080/"
    },
    "id": "ItkWuIcHzUhz",
    "outputId": "ef00bd57-a537-41cf-e275-0c94a992fb9e"
   },
   "execution_count": 39,
   "outputs": [
    {
     "output_type": "stream",
     "name": "stdout",
     "text": [
      "Task: So many bugs.force crashes  and messages cannot be sent.\n",
      "Response: [('bugs','negative'),('force crashes','negative'),('messages sending','negative')]\n"
     ]
    }
   ]
  },
  {
   "cell_type": "code",
   "source": [
    "# few-shot learning: learning from few-examples (5-shot)\n",
    "# The idea of few-shot learning is to leverage prior knowledge\n",
    "# or learned patterns to the model to understand new concepts with minimal data"
   ],
   "metadata": {
    "id": "pg0vWvSP0kBR"
   },
   "execution_count": 33,
   "outputs": []
  },
  {
   "cell_type": "code",
   "source": [
    "# Five examples for the model to learn from\n",
    "review_1 = \"Review: \\\"\" + \"I have constantly failed to sync my notes, photos, and documents\" + \"\\\"\"\n",
    "review_1_output = \"[\"\n",
    "review_1_output = review_1_output + \"(\\'sync my notes\\',\\'negative\\')\"\n",
    "review_1_output = review_1_output + \",\" +  \"(\\'sync photos\\',\\'negative\\')\"\n",
    "review_1_output = review_1_output + \",\" +  \"(\\'sync documents\\',\\'negative\\')\"\n",
    "review_1_output = review_1_output + \"]\"\n",
    "\n",
    "review_2 = \"Review: \\\"\" + \"This app is amazing, so many options!\" + \"\\\"\"\n",
    "review_2_output = \"[\"\n",
    "review_2_output = review_2_output + \"]\"\n",
    "\n",
    "review_3 = \"Review: \\\"\" + \"Easy to search for items on eBay.\" + \"\\\"\"\n",
    "review_3_output = \"[\"\n",
    "review_3_output = review_3_output + \",\" +  \"(\\'search for items\\',\\'positive\\')\"\n",
    "review_3_output = review_3_output + \"]\"\n",
    "\n",
    "review_4 = \"Review: \\\"\" + \"Dropbox lets me upload my files.\" + \"\\\"\"\n",
    "review_4_output = \"[\"\n",
    "review_4_output = review_4_output + \",\" +  \"(\\'upload my files\\',\\'neutral\\')\"\n",
    "review_4_output = review_4_output + \"]\"\n",
    "\n",
    "review_5 = \"Review: \\\"\" + \"I can send message\" + \"\\\"\"\n",
    "review_5_output = \"[\"\n",
    "review_5_output = review_5_output + \",\" +  \"(\\'send message\\',\\'neutral\\')\"\n",
    "review_5_output = review_5_output + \"]\"\n",
    "\n",
    "# short prompt\n",
    "prompt_base = \"\"\"As an expert information extractor, identify all app features with their corresponding sentiment polarities\n",
    "(i.e., positive, negative or neutral) in the following review text (enclosed in double quotations). Output the results in the format of [('app feature', 'sentiment polarity'), ...].\n",
    "If no app feature is identified, return an empty Python list. Don't output any other information: \"\"\"\n",
    "\n",
    "# The actual task i.e., review\n",
    "review = \"So many bugs.force crashes  and messages cannot be sent.\"\n",
    "\n",
    "# messages system for a one-shot interaction\n",
    "messages = [\n",
    "    {\"role\": \"system\", \"content\": prompt_base},\n",
    "    {\"role\": \"user\", \"content\": review_1},\n",
    "    {\"role\": \"assistant\", \"content\": review_1_output},\n",
    "     {\"role\": \"user\", \"content\": review_2},\n",
    "    {\"role\": \"assistant\", \"content\": review_2_output},\n",
    "     {\"role\": \"user\", \"content\": review_3},\n",
    "    {\"role\": \"assistant\", \"content\": review_3_output},\n",
    "     {\"role\": \"user\", \"content\": review_4},\n",
    "    {\"role\": \"assistant\", \"content\": review_4_output},\n",
    "     {\"role\": \"user\", \"content\": review_5},\n",
    "    {\"role\": \"assistant\", \"content\": review_5_output},\n",
    "    {\"role\": \"user\", \"content\": review}\n",
    "]\n",
    "\n",
    "# Send the messages to the model\n",
    "completion = client.chat.completions.create(\n",
    "    model=\"gpt-3.5-turbo\",\n",
    "    messages=messages\n",
    ")\n",
    "\n",
    "# model's reply\n",
    "assistant_reply = completion.choices[0].message.content\n",
    "\n",
    "print(f\"Task: {review}\\nResponse: {assistant_reply}\")\n"
   ],
   "metadata": {
    "colab": {
     "base_uri": "https://localhost:8080/"
    },
    "id": "MlSXxoeQ3UPp",
    "outputId": "6e0d8514-a6ad-45ef-d038-72311b5e1670"
   },
   "execution_count": 40,
   "outputs": [
    {
     "output_type": "stream",
     "name": "stdout",
     "text": [
      "Task: So many bugs.force crashes  and messages cannot be sent.\n",
      "Response: [('bugs','negative'),('force crashes','negative'),('messages cannot be sent','negative')]\n"
     ]
    }
   ]
  }
 ]
}
